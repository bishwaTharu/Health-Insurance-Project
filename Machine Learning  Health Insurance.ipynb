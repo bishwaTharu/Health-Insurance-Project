{
 "cells": [
  {
   "cell_type": "markdown",
   "id": "00a16132",
   "metadata": {},
   "source": [
    "## Getting Our Data Ready"
   ]
  },
  {
   "cell_type": "code",
   "execution_count": 1,
   "id": "928a6728",
   "metadata": {},
   "outputs": [
    {
     "name": "stderr",
     "output_type": "stream",
     "text": [
      "C:\\Users\\bishw\\OneDrive\\Desktop\\Insurance\\lib\\site-packages\\scipy\\__init__.py:146: UserWarning: A NumPy version >=1.16.5 and <1.23.0 is required for this version of SciPy (detected version 1.23.1\n",
      "  warnings.warn(f\"A NumPy version >={np_minversion} and <{np_maxversion}\"\n"
     ]
    }
   ],
   "source": [
    "import pandas as pd \n",
    "import numpy as np\n",
    "import matplotlib.pyplot as plt\n",
    "import seaborn as sns\n",
    "sns.set()"
   ]
  },
  {
   "cell_type": "code",
   "execution_count": 4,
   "id": "8abf46c0",
   "metadata": {},
   "outputs": [
    {
     "data": {
      "text/html": [
       "<div>\n",
       "<style scoped>\n",
       "    .dataframe tbody tr th:only-of-type {\n",
       "        vertical-align: middle;\n",
       "    }\n",
       "\n",
       "    .dataframe tbody tr th {\n",
       "        vertical-align: top;\n",
       "    }\n",
       "\n",
       "    .dataframe thead th {\n",
       "        text-align: right;\n",
       "    }\n",
       "</style>\n",
       "<table border=\"1\" class=\"dataframe\">\n",
       "  <thead>\n",
       "    <tr style=\"text-align: right;\">\n",
       "      <th></th>\n",
       "      <th>age</th>\n",
       "      <th>Sex</th>\n",
       "      <th>bmi</th>\n",
       "      <th>children</th>\n",
       "      <th>Smoker</th>\n",
       "      <th>Region</th>\n",
       "      <th>charges</th>\n",
       "    </tr>\n",
       "  </thead>\n",
       "  <tbody>\n",
       "    <tr>\n",
       "      <th>0</th>\n",
       "      <td>19</td>\n",
       "      <td>0</td>\n",
       "      <td>27.900</td>\n",
       "      <td>0.0</td>\n",
       "      <td>1</td>\n",
       "      <td>0</td>\n",
       "      <td>16884.92400</td>\n",
       "    </tr>\n",
       "    <tr>\n",
       "      <th>1</th>\n",
       "      <td>18</td>\n",
       "      <td>1</td>\n",
       "      <td>33.770</td>\n",
       "      <td>1.0</td>\n",
       "      <td>0</td>\n",
       "      <td>1</td>\n",
       "      <td>1725.55230</td>\n",
       "    </tr>\n",
       "    <tr>\n",
       "      <th>2</th>\n",
       "      <td>28</td>\n",
       "      <td>1</td>\n",
       "      <td>33.000</td>\n",
       "      <td>3.0</td>\n",
       "      <td>0</td>\n",
       "      <td>1</td>\n",
       "      <td>4449.46200</td>\n",
       "    </tr>\n",
       "    <tr>\n",
       "      <th>3</th>\n",
       "      <td>33</td>\n",
       "      <td>1</td>\n",
       "      <td>22.705</td>\n",
       "      <td>0.0</td>\n",
       "      <td>0</td>\n",
       "      <td>2</td>\n",
       "      <td>21984.47061</td>\n",
       "    </tr>\n",
       "    <tr>\n",
       "      <th>4</th>\n",
       "      <td>32</td>\n",
       "      <td>1</td>\n",
       "      <td>28.880</td>\n",
       "      <td>0.0</td>\n",
       "      <td>0</td>\n",
       "      <td>2</td>\n",
       "      <td>3866.85520</td>\n",
       "    </tr>\n",
       "  </tbody>\n",
       "</table>\n",
       "</div>"
      ],
      "text/plain": [
       "   age  Sex     bmi  children  Smoker  Region      charges\n",
       "0   19    0  27.900       0.0       1       0  16884.92400\n",
       "1   18    1  33.770       1.0       0       1   1725.55230\n",
       "2   28    1  33.000       3.0       0       1   4449.46200\n",
       "3   33    1  22.705       0.0       0       2  21984.47061\n",
       "4   32    1  28.880       0.0       0       2   3866.85520"
      ]
     },
     "execution_count": 4,
     "metadata": {},
     "output_type": "execute_result"
    }
   ],
   "source": [
    "data = pd.read_csv('Data Cleaned Insurance.csv')\n",
    "data.head()"
   ]
  },
  {
   "cell_type": "markdown",
   "id": "cf55967f",
   "metadata": {},
   "source": [
    "## Importing Dependencies"
   ]
  },
  {
   "cell_type": "code",
   "execution_count": 5,
   "id": "0ef7faa3",
   "metadata": {},
   "outputs": [],
   "source": [
    "from sklearn.model_selection import train_test_split\n",
    "from sklearn.ensemble import RandomForestRegressor\n",
    "from sklearn.linear_model import LinearRegression,Ridge"
   ]
  },
  {
   "cell_type": "markdown",
   "id": "d7c10b86",
   "metadata": {},
   "source": [
    "### Train test Split"
   ]
  },
  {
   "cell_type": "code",
   "execution_count": 6,
   "id": "e6f328b4",
   "metadata": {},
   "outputs": [
    {
     "data": {
      "text/plain": [
       "((1338, 6), (1338,))"
      ]
     },
     "execution_count": 6,
     "metadata": {},
     "output_type": "execute_result"
    }
   ],
   "source": [
    "X = data.drop(['charges'],axis=1)\n",
    "y = data['charges']\n",
    "X.shape , y.shape"
   ]
  },
  {
   "cell_type": "code",
   "execution_count": 37,
   "id": "df6b7a79",
   "metadata": {},
   "outputs": [],
   "source": [
    "# set random seed\n",
    "np.random.seed(40)\n",
    "X_train,X_test , y_train,y_test = train_test_split(X,\n",
    "                                                  y,\n",
    "                                                  train_size=0.4) "
   ]
  },
  {
   "cell_type": "code",
   "execution_count": 38,
   "id": "20feca7f",
   "metadata": {},
   "outputs": [
    {
     "data": {
      "text/plain": [
       "((535, 6), (803, 6), (535,), (803,))"
      ]
     },
     "execution_count": 38,
     "metadata": {},
     "output_type": "execute_result"
    }
   ],
   "source": [
    "X_train.shape , X_test.shape , y_train.shape , y_test.shape"
   ]
  },
  {
   "cell_type": "markdown",
   "id": "a188686d",
   "metadata": {},
   "source": [
    "## Standarzation"
   ]
  },
  {
   "cell_type": "code",
   "execution_count": 40,
   "id": "69db7a78",
   "metadata": {},
   "outputs": [],
   "source": [
    "from sklearn.preprocessing import MinMaxScaler\n",
    "scale = MinMaxScaler()\n",
    "prams = {'age':data['age'],\n",
    "        'bmi':data['bmi'],\n",
    "        'Region':data['Region']}\n",
    "X_train_scaled = scale.fit_transform(X_train,prams)\n",
    "X_test_scaled = scale.fit_transform(X_test,prams)"
   ]
  },
  {
   "cell_type": "markdown",
   "id": "1c191a1b",
   "metadata": {},
   "source": [
    "## Modeling"
   ]
  },
  {
   "cell_type": "markdown",
   "id": "0f0f4722",
   "metadata": {},
   "source": [
    "### RandomForest"
   ]
  },
  {
   "cell_type": "code",
   "execution_count": 41,
   "id": "966a59d6",
   "metadata": {},
   "outputs": [
    {
     "data": {
      "text/html": [
       "<style>#sk-container-id-8 {color: black;background-color: white;}#sk-container-id-8 pre{padding: 0;}#sk-container-id-8 div.sk-toggleable {background-color: white;}#sk-container-id-8 label.sk-toggleable__label {cursor: pointer;display: block;width: 100%;margin-bottom: 0;padding: 0.3em;box-sizing: border-box;text-align: center;}#sk-container-id-8 label.sk-toggleable__label-arrow:before {content: \"▸\";float: left;margin-right: 0.25em;color: #696969;}#sk-container-id-8 label.sk-toggleable__label-arrow:hover:before {color: black;}#sk-container-id-8 div.sk-estimator:hover label.sk-toggleable__label-arrow:before {color: black;}#sk-container-id-8 div.sk-toggleable__content {max-height: 0;max-width: 0;overflow: hidden;text-align: left;background-color: #f0f8ff;}#sk-container-id-8 div.sk-toggleable__content pre {margin: 0.2em;color: black;border-radius: 0.25em;background-color: #f0f8ff;}#sk-container-id-8 input.sk-toggleable__control:checked~div.sk-toggleable__content {max-height: 200px;max-width: 100%;overflow: auto;}#sk-container-id-8 input.sk-toggleable__control:checked~label.sk-toggleable__label-arrow:before {content: \"▾\";}#sk-container-id-8 div.sk-estimator input.sk-toggleable__control:checked~label.sk-toggleable__label {background-color: #d4ebff;}#sk-container-id-8 div.sk-label input.sk-toggleable__control:checked~label.sk-toggleable__label {background-color: #d4ebff;}#sk-container-id-8 input.sk-hidden--visually {border: 0;clip: rect(1px 1px 1px 1px);clip: rect(1px, 1px, 1px, 1px);height: 1px;margin: -1px;overflow: hidden;padding: 0;position: absolute;width: 1px;}#sk-container-id-8 div.sk-estimator {font-family: monospace;background-color: #f0f8ff;border: 1px dotted black;border-radius: 0.25em;box-sizing: border-box;margin-bottom: 0.5em;}#sk-container-id-8 div.sk-estimator:hover {background-color: #d4ebff;}#sk-container-id-8 div.sk-parallel-item::after {content: \"\";width: 100%;border-bottom: 1px solid gray;flex-grow: 1;}#sk-container-id-8 div.sk-label:hover label.sk-toggleable__label {background-color: #d4ebff;}#sk-container-id-8 div.sk-serial::before {content: \"\";position: absolute;border-left: 1px solid gray;box-sizing: border-box;top: 0;bottom: 0;left: 50%;z-index: 0;}#sk-container-id-8 div.sk-serial {display: flex;flex-direction: column;align-items: center;background-color: white;padding-right: 0.2em;padding-left: 0.2em;position: relative;}#sk-container-id-8 div.sk-item {position: relative;z-index: 1;}#sk-container-id-8 div.sk-parallel {display: flex;align-items: stretch;justify-content: center;background-color: white;position: relative;}#sk-container-id-8 div.sk-item::before, #sk-container-id-8 div.sk-parallel-item::before {content: \"\";position: absolute;border-left: 1px solid gray;box-sizing: border-box;top: 0;bottom: 0;left: 50%;z-index: -1;}#sk-container-id-8 div.sk-parallel-item {display: flex;flex-direction: column;z-index: 1;position: relative;background-color: white;}#sk-container-id-8 div.sk-parallel-item:first-child::after {align-self: flex-end;width: 50%;}#sk-container-id-8 div.sk-parallel-item:last-child::after {align-self: flex-start;width: 50%;}#sk-container-id-8 div.sk-parallel-item:only-child::after {width: 0;}#sk-container-id-8 div.sk-dashed-wrapped {border: 1px dashed gray;margin: 0 0.4em 0.5em 0.4em;box-sizing: border-box;padding-bottom: 0.4em;background-color: white;}#sk-container-id-8 div.sk-label label {font-family: monospace;font-weight: bold;display: inline-block;line-height: 1.2em;}#sk-container-id-8 div.sk-label-container {text-align: center;}#sk-container-id-8 div.sk-container {/* jupyter's `normalize.less` sets `[hidden] { display: none; }` but bootstrap.min.css set `[hidden] { display: none !important; }` so we also need the `!important` here to be able to override the default hidden behavior on the sphinx rendered scikit-learn.org. See: https://github.com/scikit-learn/scikit-learn/issues/21755 */display: inline-block !important;position: relative;}#sk-container-id-8 div.sk-text-repr-fallback {display: none;}</style><div id=\"sk-container-id-8\" class=\"sk-top-container\"><div class=\"sk-text-repr-fallback\"><pre>RandomForestRegressor()</pre><b>In a Jupyter environment, please rerun this cell to show the HTML representation or trust the notebook. <br />On GitHub, the HTML representation is unable to render, please try loading this page with nbviewer.org.</b></div><div class=\"sk-container\" hidden><div class=\"sk-item\"><div class=\"sk-estimator sk-toggleable\"><input class=\"sk-toggleable__control sk-hidden--visually\" id=\"sk-estimator-id-10\" type=\"checkbox\" checked><label for=\"sk-estimator-id-10\" class=\"sk-toggleable__label sk-toggleable__label-arrow\">RandomForestRegressor</label><div class=\"sk-toggleable__content\"><pre>RandomForestRegressor()</pre></div></div></div></div></div>"
      ],
      "text/plain": [
       "RandomForestRegressor()"
      ]
     },
     "execution_count": 41,
     "metadata": {},
     "output_type": "execute_result"
    }
   ],
   "source": [
    "\n",
    "rfr = RandomForestRegressor()\n",
    "# fit the model to the data\n",
    "rfr.fit(X_train_scaled,y_train)\n"
   ]
  },
  {
   "cell_type": "code",
   "execution_count": 42,
   "id": "c97bf88d",
   "metadata": {},
   "outputs": [
    {
     "data": {
      "text/plain": [
       "0.8155508916219343"
      ]
     },
     "execution_count": 42,
     "metadata": {},
     "output_type": "execute_result"
    }
   ],
   "source": [
    "randomforest_score= rfr.score(X_test_scaled,y_test)\n",
    "randomforest_score"
   ]
  },
  {
   "cell_type": "markdown",
   "id": "20225e36",
   "metadata": {},
   "source": [
    "### LinearRegression"
   ]
  },
  {
   "cell_type": "code",
   "execution_count": 43,
   "id": "209d48c8",
   "metadata": {},
   "outputs": [
    {
     "data": {
      "text/html": [
       "<style>#sk-container-id-9 {color: black;background-color: white;}#sk-container-id-9 pre{padding: 0;}#sk-container-id-9 div.sk-toggleable {background-color: white;}#sk-container-id-9 label.sk-toggleable__label {cursor: pointer;display: block;width: 100%;margin-bottom: 0;padding: 0.3em;box-sizing: border-box;text-align: center;}#sk-container-id-9 label.sk-toggleable__label-arrow:before {content: \"▸\";float: left;margin-right: 0.25em;color: #696969;}#sk-container-id-9 label.sk-toggleable__label-arrow:hover:before {color: black;}#sk-container-id-9 div.sk-estimator:hover label.sk-toggleable__label-arrow:before {color: black;}#sk-container-id-9 div.sk-toggleable__content {max-height: 0;max-width: 0;overflow: hidden;text-align: left;background-color: #f0f8ff;}#sk-container-id-9 div.sk-toggleable__content pre {margin: 0.2em;color: black;border-radius: 0.25em;background-color: #f0f8ff;}#sk-container-id-9 input.sk-toggleable__control:checked~div.sk-toggleable__content {max-height: 200px;max-width: 100%;overflow: auto;}#sk-container-id-9 input.sk-toggleable__control:checked~label.sk-toggleable__label-arrow:before {content: \"▾\";}#sk-container-id-9 div.sk-estimator input.sk-toggleable__control:checked~label.sk-toggleable__label {background-color: #d4ebff;}#sk-container-id-9 div.sk-label input.sk-toggleable__control:checked~label.sk-toggleable__label {background-color: #d4ebff;}#sk-container-id-9 input.sk-hidden--visually {border: 0;clip: rect(1px 1px 1px 1px);clip: rect(1px, 1px, 1px, 1px);height: 1px;margin: -1px;overflow: hidden;padding: 0;position: absolute;width: 1px;}#sk-container-id-9 div.sk-estimator {font-family: monospace;background-color: #f0f8ff;border: 1px dotted black;border-radius: 0.25em;box-sizing: border-box;margin-bottom: 0.5em;}#sk-container-id-9 div.sk-estimator:hover {background-color: #d4ebff;}#sk-container-id-9 div.sk-parallel-item::after {content: \"\";width: 100%;border-bottom: 1px solid gray;flex-grow: 1;}#sk-container-id-9 div.sk-label:hover label.sk-toggleable__label {background-color: #d4ebff;}#sk-container-id-9 div.sk-serial::before {content: \"\";position: absolute;border-left: 1px solid gray;box-sizing: border-box;top: 0;bottom: 0;left: 50%;z-index: 0;}#sk-container-id-9 div.sk-serial {display: flex;flex-direction: column;align-items: center;background-color: white;padding-right: 0.2em;padding-left: 0.2em;position: relative;}#sk-container-id-9 div.sk-item {position: relative;z-index: 1;}#sk-container-id-9 div.sk-parallel {display: flex;align-items: stretch;justify-content: center;background-color: white;position: relative;}#sk-container-id-9 div.sk-item::before, #sk-container-id-9 div.sk-parallel-item::before {content: \"\";position: absolute;border-left: 1px solid gray;box-sizing: border-box;top: 0;bottom: 0;left: 50%;z-index: -1;}#sk-container-id-9 div.sk-parallel-item {display: flex;flex-direction: column;z-index: 1;position: relative;background-color: white;}#sk-container-id-9 div.sk-parallel-item:first-child::after {align-self: flex-end;width: 50%;}#sk-container-id-9 div.sk-parallel-item:last-child::after {align-self: flex-start;width: 50%;}#sk-container-id-9 div.sk-parallel-item:only-child::after {width: 0;}#sk-container-id-9 div.sk-dashed-wrapped {border: 1px dashed gray;margin: 0 0.4em 0.5em 0.4em;box-sizing: border-box;padding-bottom: 0.4em;background-color: white;}#sk-container-id-9 div.sk-label label {font-family: monospace;font-weight: bold;display: inline-block;line-height: 1.2em;}#sk-container-id-9 div.sk-label-container {text-align: center;}#sk-container-id-9 div.sk-container {/* jupyter's `normalize.less` sets `[hidden] { display: none; }` but bootstrap.min.css set `[hidden] { display: none !important; }` so we also need the `!important` here to be able to override the default hidden behavior on the sphinx rendered scikit-learn.org. See: https://github.com/scikit-learn/scikit-learn/issues/21755 */display: inline-block !important;position: relative;}#sk-container-id-9 div.sk-text-repr-fallback {display: none;}</style><div id=\"sk-container-id-9\" class=\"sk-top-container\"><div class=\"sk-text-repr-fallback\"><pre>LinearRegression()</pre><b>In a Jupyter environment, please rerun this cell to show the HTML representation or trust the notebook. <br />On GitHub, the HTML representation is unable to render, please try loading this page with nbviewer.org.</b></div><div class=\"sk-container\" hidden><div class=\"sk-item\"><div class=\"sk-estimator sk-toggleable\"><input class=\"sk-toggleable__control sk-hidden--visually\" id=\"sk-estimator-id-11\" type=\"checkbox\" checked><label for=\"sk-estimator-id-11\" class=\"sk-toggleable__label sk-toggleable__label-arrow\">LinearRegression</label><div class=\"sk-toggleable__content\"><pre>LinearRegression()</pre></div></div></div></div></div>"
      ],
      "text/plain": [
       "LinearRegression()"
      ]
     },
     "execution_count": 43,
     "metadata": {},
     "output_type": "execute_result"
    }
   ],
   "source": [
    "reg = LinearRegression()\n",
    "reg.fit(X_train_scaled,y_train)"
   ]
  },
  {
   "cell_type": "code",
   "execution_count": 44,
   "id": "594af93e",
   "metadata": {},
   "outputs": [
    {
     "data": {
      "text/plain": [
       "0.7372581126857631"
      ]
     },
     "execution_count": 44,
     "metadata": {},
     "output_type": "execute_result"
    }
   ],
   "source": [
    "reg_score = reg.score(X_test_scaled,y_test)\n",
    "reg_score"
   ]
  },
  {
   "cell_type": "markdown",
   "id": "b8651ead",
   "metadata": {},
   "source": [
    "### Ridge"
   ]
  },
  {
   "cell_type": "code",
   "execution_count": 45,
   "id": "4fd4b0ff",
   "metadata": {},
   "outputs": [
    {
     "data": {
      "text/html": [
       "<style>#sk-container-id-10 {color: black;background-color: white;}#sk-container-id-10 pre{padding: 0;}#sk-container-id-10 div.sk-toggleable {background-color: white;}#sk-container-id-10 label.sk-toggleable__label {cursor: pointer;display: block;width: 100%;margin-bottom: 0;padding: 0.3em;box-sizing: border-box;text-align: center;}#sk-container-id-10 label.sk-toggleable__label-arrow:before {content: \"▸\";float: left;margin-right: 0.25em;color: #696969;}#sk-container-id-10 label.sk-toggleable__label-arrow:hover:before {color: black;}#sk-container-id-10 div.sk-estimator:hover label.sk-toggleable__label-arrow:before {color: black;}#sk-container-id-10 div.sk-toggleable__content {max-height: 0;max-width: 0;overflow: hidden;text-align: left;background-color: #f0f8ff;}#sk-container-id-10 div.sk-toggleable__content pre {margin: 0.2em;color: black;border-radius: 0.25em;background-color: #f0f8ff;}#sk-container-id-10 input.sk-toggleable__control:checked~div.sk-toggleable__content {max-height: 200px;max-width: 100%;overflow: auto;}#sk-container-id-10 input.sk-toggleable__control:checked~label.sk-toggleable__label-arrow:before {content: \"▾\";}#sk-container-id-10 div.sk-estimator input.sk-toggleable__control:checked~label.sk-toggleable__label {background-color: #d4ebff;}#sk-container-id-10 div.sk-label input.sk-toggleable__control:checked~label.sk-toggleable__label {background-color: #d4ebff;}#sk-container-id-10 input.sk-hidden--visually {border: 0;clip: rect(1px 1px 1px 1px);clip: rect(1px, 1px, 1px, 1px);height: 1px;margin: -1px;overflow: hidden;padding: 0;position: absolute;width: 1px;}#sk-container-id-10 div.sk-estimator {font-family: monospace;background-color: #f0f8ff;border: 1px dotted black;border-radius: 0.25em;box-sizing: border-box;margin-bottom: 0.5em;}#sk-container-id-10 div.sk-estimator:hover {background-color: #d4ebff;}#sk-container-id-10 div.sk-parallel-item::after {content: \"\";width: 100%;border-bottom: 1px solid gray;flex-grow: 1;}#sk-container-id-10 div.sk-label:hover label.sk-toggleable__label {background-color: #d4ebff;}#sk-container-id-10 div.sk-serial::before {content: \"\";position: absolute;border-left: 1px solid gray;box-sizing: border-box;top: 0;bottom: 0;left: 50%;z-index: 0;}#sk-container-id-10 div.sk-serial {display: flex;flex-direction: column;align-items: center;background-color: white;padding-right: 0.2em;padding-left: 0.2em;position: relative;}#sk-container-id-10 div.sk-item {position: relative;z-index: 1;}#sk-container-id-10 div.sk-parallel {display: flex;align-items: stretch;justify-content: center;background-color: white;position: relative;}#sk-container-id-10 div.sk-item::before, #sk-container-id-10 div.sk-parallel-item::before {content: \"\";position: absolute;border-left: 1px solid gray;box-sizing: border-box;top: 0;bottom: 0;left: 50%;z-index: -1;}#sk-container-id-10 div.sk-parallel-item {display: flex;flex-direction: column;z-index: 1;position: relative;background-color: white;}#sk-container-id-10 div.sk-parallel-item:first-child::after {align-self: flex-end;width: 50%;}#sk-container-id-10 div.sk-parallel-item:last-child::after {align-self: flex-start;width: 50%;}#sk-container-id-10 div.sk-parallel-item:only-child::after {width: 0;}#sk-container-id-10 div.sk-dashed-wrapped {border: 1px dashed gray;margin: 0 0.4em 0.5em 0.4em;box-sizing: border-box;padding-bottom: 0.4em;background-color: white;}#sk-container-id-10 div.sk-label label {font-family: monospace;font-weight: bold;display: inline-block;line-height: 1.2em;}#sk-container-id-10 div.sk-label-container {text-align: center;}#sk-container-id-10 div.sk-container {/* jupyter's `normalize.less` sets `[hidden] { display: none; }` but bootstrap.min.css set `[hidden] { display: none !important; }` so we also need the `!important` here to be able to override the default hidden behavior on the sphinx rendered scikit-learn.org. See: https://github.com/scikit-learn/scikit-learn/issues/21755 */display: inline-block !important;position: relative;}#sk-container-id-10 div.sk-text-repr-fallback {display: none;}</style><div id=\"sk-container-id-10\" class=\"sk-top-container\"><div class=\"sk-text-repr-fallback\"><pre>Ridge()</pre><b>In a Jupyter environment, please rerun this cell to show the HTML representation or trust the notebook. <br />On GitHub, the HTML representation is unable to render, please try loading this page with nbviewer.org.</b></div><div class=\"sk-container\" hidden><div class=\"sk-item\"><div class=\"sk-estimator sk-toggleable\"><input class=\"sk-toggleable__control sk-hidden--visually\" id=\"sk-estimator-id-12\" type=\"checkbox\" checked><label for=\"sk-estimator-id-12\" class=\"sk-toggleable__label sk-toggleable__label-arrow\">Ridge</label><div class=\"sk-toggleable__content\"><pre>Ridge()</pre></div></div></div></div></div>"
      ],
      "text/plain": [
       "Ridge()"
      ]
     },
     "execution_count": 45,
     "metadata": {},
     "output_type": "execute_result"
    }
   ],
   "source": [
    "rdg = Ridge()\n",
    "rdg.fit(X_train_scaled,y_train)"
   ]
  },
  {
   "cell_type": "code",
   "execution_count": 46,
   "id": "6e8fee27",
   "metadata": {},
   "outputs": [
    {
     "data": {
      "text/plain": [
       "0.7552959700386281"
      ]
     },
     "execution_count": 46,
     "metadata": {},
     "output_type": "execute_result"
    }
   ],
   "source": [
    "rdg_score = rdg.score(X_train_scaled,y_train)\n",
    "rdg_score"
   ]
  },
  {
   "cell_type": "markdown",
   "id": "c78cd6cf",
   "metadata": {},
   "source": [
    "## Comparison"
   ]
  },
  {
   "cell_type": "code",
   "execution_count": 47,
   "id": "39d5a10b",
   "metadata": {},
   "outputs": [],
   "source": [
    "model_scores = {'RandomForestScore':randomforest_score,\n",
    "                'LinearRegression':reg_score,\n",
    "                'Ridge':rdg_score\n",
    "               }"
   ]
  },
  {
   "cell_type": "code",
   "execution_count": 48,
   "id": "4df4513f",
   "metadata": {},
   "outputs": [],
   "source": [
    "df_model_score = pd.DataFrame([model_scores])"
   ]
  },
  {
   "cell_type": "code",
   "execution_count": 49,
   "id": "3910f157",
   "metadata": {},
   "outputs": [
    {
     "data": {
      "image/png": "[encoded data removed]",
      "text/plain": [
       "<Figure size 432x288 with 1 Axes>"
      ]
     },
     "metadata": {},
     "output_type": "display_data"
    }
   ],
   "source": [
    "df_model_score.plot.barh();\n",
    "plt.xlabel('Accuracy');\n"
   ]
  },
  {
   "cell_type": "markdown",
   "id": "019f41ec",
   "metadata": {},
   "source": [
    "## **HyperParameter Tunning**\n",
    "`RandomizedSearchCV` **And** `GridSearchCV`"
   ]
  },
  {
   "cell_type": "code",
   "execution_count": 19,
   "id": "827bf532",
   "metadata": {},
   "outputs": [],
   "source": [
    "from sklearn.model_selection import RandomizedSearchCV\n",
    "rfr_grid = {\n",
    "    'n_estimators':np.arange(10,1000,50),\n",
    "    'criterion':['squared_error', 'absolute_error', 'poisson'],\n",
    "    'max_depth':[None,5,8,10],\n",
    "    'max_features':[ 'sqrt', 'log2', None]\n",
    "}"
   ]
  },
  {
   "cell_type": "code",
   "execution_count": 21,
   "id": "6be30832",
   "metadata": {},
   "outputs": [
    {
     "name": "stdout",
     "output_type": "stream",
     "text": [
      "Fitting 5 folds for each of 50 candidates, totalling 250 fits\n",
      "[CV] END criterion=absolute_error, max_depth=None, max_features=sqrt, n_estimators=310; total time=   0.6s\n",
      "[CV] END criterion=absolute_error, max_depth=None, max_features=sqrt, n_estimators=310; total time=   0.9s\n",
      "[CV] END criterion=absolute_error, max_depth=None, max_features=sqrt, n_estimators=310; total time=   0.7s\n",
      "[CV] END criterion=absolute_error, max_depth=None, max_features=sqrt, n_estimators=310; total time=   0.7s\n",
      "[CV] END criterion=absolute_error, max_depth=None, max_features=sqrt, n_estimators=310; total time=   0.8s\n",
      "[CV] END criterion=absolute_error, max_depth=10, max_features=log2, n_estimators=210; total time=   0.5s\n",
      "[CV] END criterion=absolute_error, max_depth=10, max_features=log2, n_estimators=210; total time=   0.4s\n",
      "[CV] END criterion=absolute_error, max_depth=10, max_features=log2, n_estimators=210; total time=   0.4s\n",
      "[CV] END criterion=absolute_error, max_depth=10, max_features=log2, n_estimators=210; total time=   0.5s\n",
      "[CV] END criterion=absolute_error, max_depth=10, max_features=log2, n_estimators=210; total time=   0.5s\n",
      "[CV] END criterion=absolute_error, max_depth=5, max_features=sqrt, n_estimators=860; total time=   1.6s\n",
      "[CV] END criterion=absolute_error, max_depth=5, max_features=sqrt, n_estimators=860; total time=   1.5s\n",
      "[CV] END criterion=absolute_error, max_depth=5, max_features=sqrt, n_estimators=860; total time=   1.6s\n",
      "[CV] END criterion=absolute_error, max_depth=5, max_features=sqrt, n_estimators=860; total time=   1.5s\n",
      "[CV] END criterion=absolute_error, max_depth=5, max_features=sqrt, n_estimators=860; total time=   1.5s\n",
      "[CV] END criterion=squared_error, max_depth=None, max_features=log2, n_estimators=410; total time=   0.4s\n",
      "[CV] END criterion=squared_error, max_depth=None, max_features=log2, n_estimators=410; total time=   0.4s\n",
      "[CV] END criterion=squared_error, max_depth=None, max_features=log2, n_estimators=410; total time=   0.5s\n",
      "[CV] END criterion=squared_error, max_depth=None, max_features=log2, n_estimators=410; total time=   0.4s\n",
      "[CV] END criterion=squared_error, max_depth=None, max_features=log2, n_estimators=410; total time=   0.4s\n",
      "[CV] END criterion=squared_error, max_depth=10, max_features=log2, n_estimators=660; total time=   0.7s\n",
      "[CV] END criterion=squared_error, max_depth=10, max_features=log2, n_estimators=660; total time=   0.6s\n",
      "[CV] END criterion=squared_error, max_depth=10, max_features=log2, n_estimators=660; total time=   0.7s\n",
      "[CV] END criterion=squared_error, max_depth=10, max_features=log2, n_estimators=660; total time=   0.6s\n",
      "[CV] END criterion=squared_error, max_depth=10, max_features=log2, n_estimators=660; total time=   0.5s\n",
      "[CV] END criterion=poisson, max_depth=8, max_features=log2, n_estimators=810; total time=   0.8s\n",
      "[CV] END criterion=poisson, max_depth=8, max_features=log2, n_estimators=810; total time=   0.8s\n",
      "[CV] END criterion=poisson, max_depth=8, max_features=log2, n_estimators=810; total time=   0.9s\n",
      "[CV] END criterion=poisson, max_depth=8, max_features=log2, n_estimators=810; total time=   0.8s\n",
      "[CV] END criterion=poisson, max_depth=8, max_features=log2, n_estimators=810; total time=   0.9s\n",
      "[CV] END criterion=squared_error, max_depth=5, max_features=sqrt, n_estimators=960; total time=   0.8s\n",
      "[CV] END criterion=squared_error, max_depth=5, max_features=sqrt, n_estimators=960; total time=   0.7s\n",
      "[CV] END criterion=squared_error, max_depth=5, max_features=sqrt, n_estimators=960; total time=   0.8s\n",
      "[CV] END criterion=squared_error, max_depth=5, max_features=sqrt, n_estimators=960; total time=   0.8s\n",
      "[CV] END criterion=squared_error, max_depth=5, max_features=sqrt, n_estimators=960; total time=   0.9s\n",
      "[CV] END criterion=absolute_error, max_depth=None, max_features=sqrt, n_estimators=960; total time=   2.6s\n",
      "[CV] END criterion=absolute_error, max_depth=None, max_features=sqrt, n_estimators=960; total time=   2.7s\n",
      "[CV] END criterion=absolute_error, max_depth=None, max_features=sqrt, n_estimators=960; total time=   2.6s\n",
      "[CV] END criterion=absolute_error, max_depth=None, max_features=sqrt, n_estimators=960; total time=   2.7s\n",
      "[CV] END criterion=absolute_error, max_depth=None, max_features=sqrt, n_estimators=960; total time=   2.4s\n",
      "[CV] END criterion=squared_error, max_depth=5, max_features=log2, n_estimators=610; total time=   0.5s\n",
      "[CV] END criterion=squared_error, max_depth=5, max_features=log2, n_estimators=610; total time=   0.4s\n",
      "[CV] END criterion=squared_error, max_depth=5, max_features=log2, n_estimators=610; total time=   0.5s\n",
      "[CV] END criterion=squared_error, max_depth=5, max_features=log2, n_estimators=610; total time=   0.4s\n",
      "[CV] END criterion=squared_error, max_depth=5, max_features=log2, n_estimators=610; total time=   0.5s\n",
      "[CV] END criterion=squared_error, max_depth=10, max_features=log2, n_estimators=760; total time=   0.6s\n",
      "[CV] END criterion=squared_error, max_depth=10, max_features=log2, n_estimators=760; total time=   0.8s\n",
      "[CV] END criterion=squared_error, max_depth=10, max_features=log2, n_estimators=760; total time=   0.8s\n",
      "[CV] END criterion=squared_error, max_depth=10, max_features=log2, n_estimators=760; total time=   0.8s\n",
      "[CV] END criterion=squared_error, max_depth=10, max_features=log2, n_estimators=760; total time=   0.8s\n",
      "[CV] END criterion=squared_error, max_depth=8, max_features=sqrt, n_estimators=310; total time=   0.3s\n",
      "[CV] END criterion=squared_error, max_depth=8, max_features=sqrt, n_estimators=310; total time=   0.3s\n",
      "[CV] END criterion=squared_error, max_depth=8, max_features=sqrt, n_estimators=310; total time=   0.3s\n",
      "[CV] END criterion=squared_error, max_depth=8, max_features=sqrt, n_estimators=310; total time=   0.3s\n",
      "[CV] END criterion=squared_error, max_depth=8, max_features=sqrt, n_estimators=310; total time=   0.3s\n",
      "[CV] END criterion=poisson, max_depth=10, max_features=sqrt, n_estimators=60; total time=   0.0s\n",
      "[CV] END criterion=poisson, max_depth=10, max_features=sqrt, n_estimators=60; total time=   0.0s\n",
      "[CV] END criterion=poisson, max_depth=10, max_features=sqrt, n_estimators=60; total time=   0.0s\n",
      "[CV] END criterion=poisson, max_depth=10, max_features=sqrt, n_estimators=60; total time=   0.0s\n",
      "[CV] END criterion=poisson, max_depth=10, max_features=sqrt, n_estimators=60; total time=   0.0s\n",
      "[CV] END criterion=absolute_error, max_depth=None, max_features=log2, n_estimators=10; total time=   0.0s\n",
      "[CV] END criterion=absolute_error, max_depth=None, max_features=log2, n_estimators=10; total time=   0.0s\n",
      "[CV] END criterion=absolute_error, max_depth=None, max_features=log2, n_estimators=10; total time=   0.0s\n",
      "[CV] END criterion=absolute_error, max_depth=None, max_features=log2, n_estimators=10; total time=   0.0s\n",
      "[CV] END criterion=absolute_error, max_depth=None, max_features=log2, n_estimators=10; total time=   0.0s\n",
      "[CV] END criterion=squared_error, max_depth=None, max_features=None, n_estimators=610; total time=   0.7s\n",
      "[CV] END criterion=squared_error, max_depth=None, max_features=None, n_estimators=610; total time=   0.7s\n",
      "[CV] END criterion=squared_error, max_depth=None, max_features=None, n_estimators=610; total time=   0.7s\n",
      "[CV] END criterion=squared_error, max_depth=None, max_features=None, n_estimators=610; total time=   0.8s\n",
      "[CV] END criterion=squared_error, max_depth=None, max_features=None, n_estimators=610; total time=   0.8s\n",
      "[CV] END criterion=squared_error, max_depth=10, max_features=sqrt, n_estimators=810; total time=   0.8s\n",
      "[CV] END criterion=squared_error, max_depth=10, max_features=sqrt, n_estimators=810; total time=   0.8s\n",
      "[CV] END criterion=squared_error, max_depth=10, max_features=sqrt, n_estimators=810; total time=   1.0s\n",
      "[CV] END criterion=squared_error, max_depth=10, max_features=sqrt, n_estimators=810; total time=   0.8s\n",
      "[CV] END criterion=squared_error, max_depth=10, max_features=sqrt, n_estimators=810; total time=   0.8s\n",
      "[CV] END criterion=squared_error, max_depth=None, max_features=sqrt, n_estimators=210; total time=   0.2s\n",
      "[CV] END criterion=squared_error, max_depth=None, max_features=sqrt, n_estimators=210; total time=   0.2s\n",
      "[CV] END criterion=squared_error, max_depth=None, max_features=sqrt, n_estimators=210; total time=   0.2s\n",
      "[CV] END criterion=squared_error, max_depth=None, max_features=sqrt, n_estimators=210; total time=   0.2s\n"
     ]
    },
    {
     "name": "stdout",
     "output_type": "stream",
     "text": [
      "[CV] END criterion=squared_error, max_depth=None, max_features=sqrt, n_estimators=210; total time=   0.1s\n",
      "[CV] END criterion=poisson, max_depth=8, max_features=None, n_estimators=610; total time=   0.7s\n",
      "[CV] END criterion=poisson, max_depth=8, max_features=None, n_estimators=610; total time=   0.8s\n",
      "[CV] END criterion=poisson, max_depth=8, max_features=None, n_estimators=610; total time=   0.8s\n",
      "[CV] END criterion=poisson, max_depth=8, max_features=None, n_estimators=610; total time=   0.8s\n",
      "[CV] END criterion=poisson, max_depth=8, max_features=None, n_estimators=610; total time=   0.8s\n",
      "[CV] END criterion=squared_error, max_depth=8, max_features=None, n_estimators=560; total time=   0.6s\n",
      "[CV] END criterion=squared_error, max_depth=8, max_features=None, n_estimators=560; total time=   0.7s\n",
      "[CV] END criterion=squared_error, max_depth=8, max_features=None, n_estimators=560; total time=   0.7s\n",
      "[CV] END criterion=squared_error, max_depth=8, max_features=None, n_estimators=560; total time=   0.7s\n",
      "[CV] END criterion=squared_error, max_depth=8, max_features=None, n_estimators=560; total time=   0.7s\n",
      "[CV] END criterion=poisson, max_depth=None, max_features=log2, n_estimators=860; total time=   1.0s\n",
      "[CV] END criterion=poisson, max_depth=None, max_features=log2, n_estimators=860; total time=   1.1s\n",
      "[CV] END criterion=poisson, max_depth=None, max_features=log2, n_estimators=860; total time=   1.0s\n",
      "[CV] END criterion=poisson, max_depth=None, max_features=log2, n_estimators=860; total time=   1.0s\n",
      "[CV] END criterion=poisson, max_depth=None, max_features=log2, n_estimators=860; total time=   1.1s\n",
      "[CV] END criterion=squared_error, max_depth=None, max_features=sqrt, n_estimators=110; total time=   0.1s\n",
      "[CV] END criterion=squared_error, max_depth=None, max_features=sqrt, n_estimators=110; total time=   0.1s\n",
      "[CV] END criterion=squared_error, max_depth=None, max_features=sqrt, n_estimators=110; total time=   0.0s\n",
      "[CV] END criterion=squared_error, max_depth=None, max_features=sqrt, n_estimators=110; total time=   0.0s\n",
      "[CV] END criterion=squared_error, max_depth=None, max_features=sqrt, n_estimators=110; total time=   0.1s\n",
      "[CV] END criterion=absolute_error, max_depth=None, max_features=sqrt, n_estimators=860; total time=   2.6s\n",
      "[CV] END criterion=absolute_error, max_depth=None, max_features=sqrt, n_estimators=860; total time=   2.7s\n",
      "[CV] END criterion=absolute_error, max_depth=None, max_features=sqrt, n_estimators=860; total time=   2.5s\n",
      "[CV] END criterion=absolute_error, max_depth=None, max_features=sqrt, n_estimators=860; total time=   2.4s\n",
      "[CV] END criterion=absolute_error, max_depth=None, max_features=sqrt, n_estimators=860; total time=   2.3s\n",
      "[CV] END criterion=absolute_error, max_depth=8, max_features=sqrt, n_estimators=610; total time=   1.4s\n",
      "[CV] END criterion=absolute_error, max_depth=8, max_features=sqrt, n_estimators=610; total time=   1.5s\n",
      "[CV] END criterion=absolute_error, max_depth=8, max_features=sqrt, n_estimators=610; total time=   1.2s\n",
      "[CV] END criterion=absolute_error, max_depth=8, max_features=sqrt, n_estimators=610; total time=   1.2s\n",
      "[CV] END criterion=absolute_error, max_depth=8, max_features=sqrt, n_estimators=610; total time=   1.2s\n",
      "[CV] END criterion=poisson, max_depth=10, max_features=log2, n_estimators=710; total time=   0.7s\n",
      "[CV] END criterion=poisson, max_depth=10, max_features=log2, n_estimators=710; total time=   0.7s\n",
      "[CV] END criterion=poisson, max_depth=10, max_features=log2, n_estimators=710; total time=   0.7s\n",
      "[CV] END criterion=poisson, max_depth=10, max_features=log2, n_estimators=710; total time=   0.8s\n",
      "[CV] END criterion=poisson, max_depth=10, max_features=log2, n_estimators=710; total time=   0.7s\n",
      "[CV] END criterion=absolute_error, max_depth=None, max_features=log2, n_estimators=760; total time=   1.8s\n",
      "[CV] END criterion=absolute_error, max_depth=None, max_features=log2, n_estimators=760; total time=   1.9s\n",
      "[CV] END criterion=absolute_error, max_depth=None, max_features=log2, n_estimators=760; total time=   2.0s\n",
      "[CV] END criterion=absolute_error, max_depth=None, max_features=log2, n_estimators=760; total time=   2.0s\n",
      "[CV] END criterion=absolute_error, max_depth=None, max_features=log2, n_estimators=760; total time=   1.8s\n",
      "[CV] END criterion=absolute_error, max_depth=8, max_features=None, n_estimators=610; total time=   2.3s\n",
      "[CV] END criterion=absolute_error, max_depth=8, max_features=None, n_estimators=610; total time=   2.1s\n",
      "[CV] END criterion=absolute_error, max_depth=8, max_features=None, n_estimators=610; total time=   2.4s\n",
      "[CV] END criterion=absolute_error, max_depth=8, max_features=None, n_estimators=610; total time=   2.1s\n",
      "[CV] END criterion=absolute_error, max_depth=8, max_features=None, n_estimators=610; total time=   2.1s\n",
      "[CV] END criterion=poisson, max_depth=5, max_features=log2, n_estimators=210; total time=   0.1s\n",
      "[CV] END criterion=poisson, max_depth=5, max_features=log2, n_estimators=210; total time=   0.1s\n",
      "[CV] END criterion=poisson, max_depth=5, max_features=log2, n_estimators=210; total time=   0.1s\n",
      "[CV] END criterion=poisson, max_depth=5, max_features=log2, n_estimators=210; total time=   0.1s\n",
      "[CV] END criterion=poisson, max_depth=5, max_features=log2, n_estimators=210; total time=   0.1s\n",
      "[CV] END criterion=squared_error, max_depth=5, max_features=sqrt, n_estimators=260; total time=   0.1s\n",
      "[CV] END criterion=squared_error, max_depth=5, max_features=sqrt, n_estimators=260; total time=   0.2s\n",
      "[CV] END criterion=squared_error, max_depth=5, max_features=sqrt, n_estimators=260; total time=   0.2s\n",
      "[CV] END criterion=squared_error, max_depth=5, max_features=sqrt, n_estimators=260; total time=   0.2s\n",
      "[CV] END criterion=squared_error, max_depth=5, max_features=sqrt, n_estimators=260; total time=   0.1s\n",
      "[CV] END criterion=squared_error, max_depth=None, max_features=sqrt, n_estimators=360; total time=   0.3s\n",
      "[CV] END criterion=squared_error, max_depth=None, max_features=sqrt, n_estimators=360; total time=   0.3s\n",
      "[CV] END criterion=squared_error, max_depth=None, max_features=sqrt, n_estimators=360; total time=   0.3s\n",
      "[CV] END criterion=squared_error, max_depth=None, max_features=sqrt, n_estimators=360; total time=   0.3s\n",
      "[CV] END criterion=squared_error, max_depth=None, max_features=sqrt, n_estimators=360; total time=   0.3s\n",
      "[CV] END criterion=absolute_error, max_depth=None, max_features=None, n_estimators=110; total time=   0.5s\n",
      "[CV] END criterion=absolute_error, max_depth=None, max_features=None, n_estimators=110; total time=   0.4s\n",
      "[CV] END criterion=absolute_error, max_depth=None, max_features=None, n_estimators=110; total time=   0.4s\n",
      "[CV] END criterion=absolute_error, max_depth=None, max_features=None, n_estimators=110; total time=   0.4s\n",
      "[CV] END criterion=absolute_error, max_depth=None, max_features=None, n_estimators=110; total time=   0.3s\n",
      "[CV] END criterion=absolute_error, max_depth=10, max_features=log2, n_estimators=110; total time=   0.2s\n",
      "[CV] END criterion=absolute_error, max_depth=10, max_features=log2, n_estimators=110; total time=   0.2s\n",
      "[CV] END criterion=absolute_error, max_depth=10, max_features=log2, n_estimators=110; total time=   0.2s\n",
      "[CV] END criterion=absolute_error, max_depth=10, max_features=log2, n_estimators=110; total time=   0.2s\n",
      "[CV] END criterion=absolute_error, max_depth=10, max_features=log2, n_estimators=110; total time=   0.3s\n",
      "[CV] END criterion=poisson, max_depth=5, max_features=log2, n_estimators=460; total time=   0.4s\n",
      "[CV] END criterion=poisson, max_depth=5, max_features=log2, n_estimators=460; total time=   0.4s\n",
      "[CV] END criterion=poisson, max_depth=5, max_features=log2, n_estimators=460; total time=   0.4s\n",
      "[CV] END criterion=poisson, max_depth=5, max_features=log2, n_estimators=460; total time=   0.4s\n",
      "[CV] END criterion=poisson, max_depth=5, max_features=log2, n_estimators=460; total time=   0.3s\n",
      "[CV] END criterion=poisson, max_depth=10, max_features=sqrt, n_estimators=860; total time=   0.9s\n",
      "[CV] END criterion=poisson, max_depth=10, max_features=sqrt, n_estimators=860; total time=   0.8s\n",
      "[CV] END criterion=poisson, max_depth=10, max_features=sqrt, n_estimators=860; total time=   1.0s\n",
      "[CV] END criterion=poisson, max_depth=10, max_features=sqrt, n_estimators=860; total time=   0.9s\n"
     ]
    },
    {
     "name": "stdout",
     "output_type": "stream",
     "text": [
      "[CV] END criterion=poisson, max_depth=10, max_features=sqrt, n_estimators=860; total time=   0.9s\n",
      "[CV] END criterion=poisson, max_depth=None, max_features=log2, n_estimators=960; total time=   1.2s\n",
      "[CV] END criterion=poisson, max_depth=None, max_features=log2, n_estimators=960; total time=   1.2s\n",
      "[CV] END criterion=poisson, max_depth=None, max_features=log2, n_estimators=960; total time=   1.1s\n",
      "[CV] END criterion=poisson, max_depth=None, max_features=log2, n_estimators=960; total time=   0.9s\n",
      "[CV] END criterion=poisson, max_depth=None, max_features=log2, n_estimators=960; total time=   0.9s\n",
      "[CV] END criterion=absolute_error, max_depth=5, max_features=sqrt, n_estimators=810; total time=   1.2s\n",
      "[CV] END criterion=absolute_error, max_depth=5, max_features=sqrt, n_estimators=810; total time=   1.4s\n",
      "[CV] END criterion=absolute_error, max_depth=5, max_features=sqrt, n_estimators=810; total time=   1.4s\n",
      "[CV] END criterion=absolute_error, max_depth=5, max_features=sqrt, n_estimators=810; total time=   1.2s\n",
      "[CV] END criterion=absolute_error, max_depth=5, max_features=sqrt, n_estimators=810; total time=   1.3s\n",
      "[CV] END criterion=absolute_error, max_depth=5, max_features=log2, n_estimators=10; total time=   0.0s\n",
      "[CV] END criterion=absolute_error, max_depth=5, max_features=log2, n_estimators=10; total time=   0.0s\n",
      "[CV] END criterion=absolute_error, max_depth=5, max_features=log2, n_estimators=10; total time=   0.0s\n",
      "[CV] END criterion=absolute_error, max_depth=5, max_features=log2, n_estimators=10; total time=   0.0s\n",
      "[CV] END criterion=absolute_error, max_depth=5, max_features=log2, n_estimators=10; total time=   0.0s\n",
      "[CV] END criterion=absolute_error, max_depth=5, max_features=log2, n_estimators=310; total time=   0.4s\n",
      "[CV] END criterion=absolute_error, max_depth=5, max_features=log2, n_estimators=310; total time=   0.5s\n",
      "[CV] END criterion=absolute_error, max_depth=5, max_features=log2, n_estimators=310; total time=   0.4s\n",
      "[CV] END criterion=absolute_error, max_depth=5, max_features=log2, n_estimators=310; total time=   0.5s\n",
      "[CV] END criterion=absolute_error, max_depth=5, max_features=log2, n_estimators=310; total time=   0.4s\n",
      "[CV] END criterion=poisson, max_depth=5, max_features=None, n_estimators=760; total time=   0.8s\n",
      "[CV] END criterion=poisson, max_depth=5, max_features=None, n_estimators=760; total time=   0.7s\n",
      "[CV] END criterion=poisson, max_depth=5, max_features=None, n_estimators=760; total time=   0.8s\n",
      "[CV] END criterion=poisson, max_depth=5, max_features=None, n_estimators=760; total time=   0.8s\n",
      "[CV] END criterion=poisson, max_depth=5, max_features=None, n_estimators=760; total time=   0.8s\n",
      "[CV] END criterion=poisson, max_depth=8, max_features=log2, n_estimators=610; total time=   0.6s\n",
      "[CV] END criterion=poisson, max_depth=8, max_features=log2, n_estimators=610; total time=   0.6s\n",
      "[CV] END criterion=poisson, max_depth=8, max_features=log2, n_estimators=610; total time=   0.6s\n",
      "[CV] END criterion=poisson, max_depth=8, max_features=log2, n_estimators=610; total time=   0.5s\n",
      "[CV] END criterion=poisson, max_depth=8, max_features=log2, n_estimators=610; total time=   0.6s\n",
      "[CV] END criterion=poisson, max_depth=8, max_features=None, n_estimators=760; total time=   0.9s\n",
      "[CV] END criterion=poisson, max_depth=8, max_features=None, n_estimators=760; total time=   0.9s\n",
      "[CV] END criterion=poisson, max_depth=8, max_features=None, n_estimators=760; total time=   1.0s\n",
      "[CV] END criterion=poisson, max_depth=8, max_features=None, n_estimators=760; total time=   1.0s\n",
      "[CV] END criterion=poisson, max_depth=8, max_features=None, n_estimators=760; total time=   1.0s\n",
      "[CV] END criterion=poisson, max_depth=5, max_features=None, n_estimators=460; total time=   0.5s\n",
      "[CV] END criterion=poisson, max_depth=5, max_features=None, n_estimators=460; total time=   0.5s\n",
      "[CV] END criterion=poisson, max_depth=5, max_features=None, n_estimators=460; total time=   0.4s\n",
      "[CV] END criterion=poisson, max_depth=5, max_features=None, n_estimators=460; total time=   0.4s\n",
      "[CV] END criterion=poisson, max_depth=5, max_features=None, n_estimators=460; total time=   0.4s\n",
      "[CV] END criterion=absolute_error, max_depth=10, max_features=sqrt, n_estimators=910; total time=   2.1s\n",
      "[CV] END criterion=absolute_error, max_depth=10, max_features=sqrt, n_estimators=910; total time=   2.3s\n",
      "[CV] END criterion=absolute_error, max_depth=10, max_features=sqrt, n_estimators=910; total time=   2.0s\n",
      "[CV] END criterion=absolute_error, max_depth=10, max_features=sqrt, n_estimators=910; total time=   2.0s\n",
      "[CV] END criterion=absolute_error, max_depth=10, max_features=sqrt, n_estimators=910; total time=   2.1s\n",
      "[CV] END criterion=squared_error, max_depth=10, max_features=None, n_estimators=660; total time=   1.0s\n",
      "[CV] END criterion=squared_error, max_depth=10, max_features=None, n_estimators=660; total time=   0.8s\n",
      "[CV] END criterion=squared_error, max_depth=10, max_features=None, n_estimators=660; total time=   0.9s\n",
      "[CV] END criterion=squared_error, max_depth=10, max_features=None, n_estimators=660; total time=   0.9s\n",
      "[CV] END criterion=squared_error, max_depth=10, max_features=None, n_estimators=660; total time=   0.9s\n",
      "[CV] END criterion=poisson, max_depth=None, max_features=log2, n_estimators=760; total time=   1.0s\n",
      "[CV] END criterion=poisson, max_depth=None, max_features=log2, n_estimators=760; total time=   1.0s\n",
      "[CV] END criterion=poisson, max_depth=None, max_features=log2, n_estimators=760; total time=   0.9s\n",
      "[CV] END criterion=poisson, max_depth=None, max_features=log2, n_estimators=760; total time=   0.9s\n",
      "[CV] END criterion=poisson, max_depth=None, max_features=log2, n_estimators=760; total time=   0.9s\n",
      "[CV] END criterion=poisson, max_depth=8, max_features=None, n_estimators=310; total time=   0.4s\n",
      "[CV] END criterion=poisson, max_depth=8, max_features=None, n_estimators=310; total time=   0.4s\n",
      "[CV] END criterion=poisson, max_depth=8, max_features=None, n_estimators=310; total time=   0.4s\n",
      "[CV] END criterion=poisson, max_depth=8, max_features=None, n_estimators=310; total time=   0.4s\n",
      "[CV] END criterion=poisson, max_depth=8, max_features=None, n_estimators=310; total time=   0.3s\n",
      "[CV] END criterion=poisson, max_depth=5, max_features=sqrt, n_estimators=260; total time=   0.2s\n",
      "[CV] END criterion=poisson, max_depth=5, max_features=sqrt, n_estimators=260; total time=   0.2s\n",
      "[CV] END criterion=poisson, max_depth=5, max_features=sqrt, n_estimators=260; total time=   0.1s\n",
      "[CV] END criterion=poisson, max_depth=5, max_features=sqrt, n_estimators=260; total time=   0.1s\n",
      "[CV] END criterion=poisson, max_depth=5, max_features=sqrt, n_estimators=260; total time=   0.2s\n",
      "[CV] END criterion=poisson, max_depth=8, max_features=sqrt, n_estimators=310; total time=   0.3s\n",
      "[CV] END criterion=poisson, max_depth=8, max_features=sqrt, n_estimators=310; total time=   0.3s\n",
      "[CV] END criterion=poisson, max_depth=8, max_features=sqrt, n_estimators=310; total time=   0.3s\n",
      "[CV] END criterion=poisson, max_depth=8, max_features=sqrt, n_estimators=310; total time=   0.3s\n",
      "[CV] END criterion=poisson, max_depth=8, max_features=sqrt, n_estimators=310; total time=   0.3s\n",
      "[CV] END criterion=absolute_error, max_depth=None, max_features=None, n_estimators=760; total time=   3.7s\n",
      "[CV] END criterion=absolute_error, max_depth=None, max_features=None, n_estimators=760; total time=   3.6s\n",
      "[CV] END criterion=absolute_error, max_depth=None, max_features=None, n_estimators=760; total time=   3.5s\n",
      "[CV] END criterion=absolute_error, max_depth=None, max_features=None, n_estimators=760; total time=   3.4s\n",
      "[CV] END criterion=absolute_error, max_depth=None, max_features=None, n_estimators=760; total time=   3.5s\n",
      "[CV] END criterion=squared_error, max_depth=8, max_features=log2, n_estimators=110; total time=   0.0s\n",
      "[CV] END criterion=squared_error, max_depth=8, max_features=log2, n_estimators=110; total time=   0.0s\n",
      "[CV] END criterion=squared_error, max_depth=8, max_features=log2, n_estimators=110; total time=   0.0s\n",
      "[CV] END criterion=squared_error, max_depth=8, max_features=log2, n_estimators=110; total time=   0.0s\n",
      "[CV] END criterion=squared_error, max_depth=8, max_features=log2, n_estimators=110; total time=   0.0s\n",
      "[CV] END criterion=absolute_error, max_depth=None, max_features=log2, n_estimators=260; total time=   0.6s\n"
     ]
    },
    {
     "name": "stdout",
     "output_type": "stream",
     "text": [
      "[CV] END criterion=absolute_error, max_depth=None, max_features=log2, n_estimators=260; total time=   0.7s\n",
      "[CV] END criterion=absolute_error, max_depth=None, max_features=log2, n_estimators=260; total time=   0.6s\n",
      "[CV] END criterion=absolute_error, max_depth=None, max_features=log2, n_estimators=260; total time=   0.6s\n",
      "[CV] END criterion=absolute_error, max_depth=None, max_features=log2, n_estimators=260; total time=   0.6s\n",
      "[CV] END criterion=poisson, max_depth=None, max_features=None, n_estimators=560; total time=   0.9s\n",
      "[CV] END criterion=poisson, max_depth=None, max_features=None, n_estimators=560; total time=   0.8s\n",
      "[CV] END criterion=poisson, max_depth=None, max_features=None, n_estimators=560; total time=   0.7s\n",
      "[CV] END criterion=poisson, max_depth=None, max_features=None, n_estimators=560; total time=   0.8s\n",
      "[CV] END criterion=poisson, max_depth=None, max_features=None, n_estimators=560; total time=   0.8s\n"
     ]
    },
    {
     "data": {
      "text/html": [
       "<style>#sk-container-id-4 {color: black;background-color: white;}#sk-container-id-4 pre{padding: 0;}#sk-container-id-4 div.sk-toggleable {background-color: white;}#sk-container-id-4 label.sk-toggleable__label {cursor: pointer;display: block;width: 100%;margin-bottom: 0;padding: 0.3em;box-sizing: border-box;text-align: center;}#sk-container-id-4 label.sk-toggleable__label-arrow:before {content: \"▸\";float: left;margin-right: 0.25em;color: #696969;}#sk-container-id-4 label.sk-toggleable__label-arrow:hover:before {color: black;}#sk-container-id-4 div.sk-estimator:hover label.sk-toggleable__label-arrow:before {color: black;}#sk-container-id-4 div.sk-toggleable__content {max-height: 0;max-width: 0;overflow: hidden;text-align: left;background-color: #f0f8ff;}#sk-container-id-4 div.sk-toggleable__content pre {margin: 0.2em;color: black;border-radius: 0.25em;background-color: #f0f8ff;}#sk-container-id-4 input.sk-toggleable__control:checked~div.sk-toggleable__content {max-height: 200px;max-width: 100%;overflow: auto;}#sk-container-id-4 input.sk-toggleable__control:checked~label.sk-toggleable__label-arrow:before {content: \"▾\";}#sk-container-id-4 div.sk-estimator input.sk-toggleable__control:checked~label.sk-toggleable__label {background-color: #d4ebff;}#sk-container-id-4 div.sk-label input.sk-toggleable__control:checked~label.sk-toggleable__label {background-color: #d4ebff;}#sk-container-id-4 input.sk-hidden--visually {border: 0;clip: rect(1px 1px 1px 1px);clip: rect(1px, 1px, 1px, 1px);height: 1px;margin: -1px;overflow: hidden;padding: 0;position: absolute;width: 1px;}#sk-container-id-4 div.sk-estimator {font-family: monospace;background-color: #f0f8ff;border: 1px dotted black;border-radius: 0.25em;box-sizing: border-box;margin-bottom: 0.5em;}#sk-container-id-4 div.sk-estimator:hover {background-color: #d4ebff;}#sk-container-id-4 div.sk-parallel-item::after {content: \"\";width: 100%;border-bottom: 1px solid gray;flex-grow: 1;}#sk-container-id-4 div.sk-label:hover label.sk-toggleable__label {background-color: #d4ebff;}#sk-container-id-4 div.sk-serial::before {content: \"\";position: absolute;border-left: 1px solid gray;box-sizing: border-box;top: 0;bottom: 0;left: 50%;z-index: 0;}#sk-container-id-4 div.sk-serial {display: flex;flex-direction: column;align-items: center;background-color: white;padding-right: 0.2em;padding-left: 0.2em;position: relative;}#sk-container-id-4 div.sk-item {position: relative;z-index: 1;}#sk-container-id-4 div.sk-parallel {display: flex;align-items: stretch;justify-content: center;background-color: white;position: relative;}#sk-container-id-4 div.sk-item::before, #sk-container-id-4 div.sk-parallel-item::before {content: \"\";position: absolute;border-left: 1px solid gray;box-sizing: border-box;top: 0;bottom: 0;left: 50%;z-index: -1;}#sk-container-id-4 div.sk-parallel-item {display: flex;flex-direction: column;z-index: 1;position: relative;background-color: white;}#sk-container-id-4 div.sk-parallel-item:first-child::after {align-self: flex-end;width: 50%;}#sk-container-id-4 div.sk-parallel-item:last-child::after {align-self: flex-start;width: 50%;}#sk-container-id-4 div.sk-parallel-item:only-child::after {width: 0;}#sk-container-id-4 div.sk-dashed-wrapped {border: 1px dashed gray;margin: 0 0.4em 0.5em 0.4em;box-sizing: border-box;padding-bottom: 0.4em;background-color: white;}#sk-container-id-4 div.sk-label label {font-family: monospace;font-weight: bold;display: inline-block;line-height: 1.2em;}#sk-container-id-4 div.sk-label-container {text-align: center;}#sk-container-id-4 div.sk-container {/* jupyter's `normalize.less` sets `[hidden] { display: none; }` but bootstrap.min.css set `[hidden] { display: none !important; }` so we also need the `!important` here to be able to override the default hidden behavior on the sphinx rendered scikit-learn.org. See: https://github.com/scikit-learn/scikit-learn/issues/21755 */display: inline-block !important;position: relative;}#sk-container-id-4 div.sk-text-repr-fallback {display: none;}</style><div id=\"sk-container-id-4\" class=\"sk-top-container\"><div class=\"sk-text-repr-fallback\"><pre>RandomizedSearchCV(cv=5, estimator=RandomForestRegressor(), n_iter=50,\n",
       "                   param_distributions={&#x27;criterion&#x27;: [&#x27;squared_error&#x27;,\n",
       "                                                      &#x27;absolute_error&#x27;,\n",
       "                                                      &#x27;poisson&#x27;],\n",
       "                                        &#x27;max_depth&#x27;: [None, 5, 8, 10],\n",
       "                                        &#x27;max_features&#x27;: [&#x27;sqrt&#x27;, &#x27;log2&#x27;, None],\n",
       "                                        &#x27;n_estimators&#x27;: array([ 10,  60, 110, 160, 210, 260, 310, 360, 410, 460, 510, 560, 610,\n",
       "       660, 710, 760, 810, 860, 910, 960])},\n",
       "                   verbose=2)</pre><b>In a Jupyter environment, please rerun this cell to show the HTML representation or trust the notebook. <br />On GitHub, the HTML representation is unable to render, please try loading this page with nbviewer.org.</b></div><div class=\"sk-container\" hidden><div class=\"sk-item sk-dashed-wrapped\"><div class=\"sk-label-container\"><div class=\"sk-label sk-toggleable\"><input class=\"sk-toggleable__control sk-hidden--visually\" id=\"sk-estimator-id-4\" type=\"checkbox\" ><label for=\"sk-estimator-id-4\" class=\"sk-toggleable__label sk-toggleable__label-arrow\">RandomizedSearchCV</label><div class=\"sk-toggleable__content\"><pre>RandomizedSearchCV(cv=5, estimator=RandomForestRegressor(), n_iter=50,\n",
       "                   param_distributions={&#x27;criterion&#x27;: [&#x27;squared_error&#x27;,\n",
       "                                                      &#x27;absolute_error&#x27;,\n",
       "                                                      &#x27;poisson&#x27;],\n",
       "                                        &#x27;max_depth&#x27;: [None, 5, 8, 10],\n",
       "                                        &#x27;max_features&#x27;: [&#x27;sqrt&#x27;, &#x27;log2&#x27;, None],\n",
       "                                        &#x27;n_estimators&#x27;: array([ 10,  60, 110, 160, 210, 260, 310, 360, 410, 460, 510, 560, 610,\n",
       "       660, 710, 760, 810, 860, 910, 960])},\n",
       "                   verbose=2)</pre></div></div></div><div class=\"sk-parallel\"><div class=\"sk-parallel-item\"><div class=\"sk-item\"><div class=\"sk-label-container\"><div class=\"sk-label sk-toggleable\"><input class=\"sk-toggleable__control sk-hidden--visually\" id=\"sk-estimator-id-5\" type=\"checkbox\" ><label for=\"sk-estimator-id-5\" class=\"sk-toggleable__label sk-toggleable__label-arrow\">estimator: RandomForestRegressor</label><div class=\"sk-toggleable__content\"><pre>RandomForestRegressor()</pre></div></div></div><div class=\"sk-serial\"><div class=\"sk-item\"><div class=\"sk-estimator sk-toggleable\"><input class=\"sk-toggleable__control sk-hidden--visually\" id=\"sk-estimator-id-6\" type=\"checkbox\" ><label for=\"sk-estimator-id-6\" class=\"sk-toggleable__label sk-toggleable__label-arrow\">RandomForestRegressor</label><div class=\"sk-toggleable__content\"><pre>RandomForestRegressor()</pre></div></div></div></div></div></div></div></div></div></div>"
      ],
      "text/plain": [
       "RandomizedSearchCV(cv=5, estimator=RandomForestRegressor(), n_iter=50,\n",
       "                   param_distributions={'criterion': ['squared_error',\n",
       "                                                      'absolute_error',\n",
       "                                                      'poisson'],\n",
       "                                        'max_depth': [None, 5, 8, 10],\n",
       "                                        'max_features': ['sqrt', 'log2', None],\n",
       "                                        'n_estimators': array([ 10,  60, 110, 160, 210, 260, 310, 360, 410, 460, 510, 560, 610,\n",
       "       660, 710, 760, 810, 860, 910, 960])},\n",
       "                   verbose=2)"
      ]
     },
     "execution_count": 21,
     "metadata": {},
     "output_type": "execute_result"
    }
   ],
   "source": [
    "# setup hyperparametes for RandomForestRegressor \n",
    "rfr_rcv = RandomizedSearchCV(RandomForestRegressor(),\n",
    "                                param_distributions= rfr_grid,\n",
    "                                n_iter = 50,\n",
    "                                verbose=2,\n",
    "                                cv=5)\n",
    "# fit random hyperparameter search model for linearRegression\n",
    "rfr_rcv.fit(X_train_scaled,y_train)\n",
    "                                "
   ]
  },
  {
   "cell_type": "code",
   "execution_count": 50,
   "id": "a32dde1f",
   "metadata": {},
   "outputs": [
    {
     "data": {
      "text/plain": [
       "{'n_estimators': 610,\n",
       " 'max_features': 'sqrt',\n",
       " 'max_depth': 8,\n",
       " 'criterion': 'absolute_error'}"
      ]
     },
     "execution_count": 50,
     "metadata": {},
     "output_type": "execute_result"
    }
   ],
   "source": [
    "rfr_rcv.best_params_"
   ]
  },
  {
   "cell_type": "code",
   "execution_count": 51,
   "id": "69b64cda",
   "metadata": {},
   "outputs": [
    {
     "data": {
      "text/plain": [
       "0.8198196306778496"
      ]
     },
     "execution_count": 51,
     "metadata": {},
     "output_type": "execute_result"
    }
   ],
   "source": [
    "rfr_tuned_score = rfr_rcv.score(X_test_scaled,y_test)\n",
    "rfr_tuned_score"
   ]
  },
  {
   "cell_type": "code",
   "execution_count": null,
   "id": "9bb4bf33",
   "metadata": {},
   "outputs": [],
   "source": [
    "# linear regression\n"
   ]
  }
 ],
 "metadata": {
  "kernelspec": {
   "display_name": "Python 3 (ipykernel)",
   "language": "python",
   "name": "python3"
  },
  "language_info": {
   "codemirror_mode": {
    "name": "ipython",
    "version": 3
   },
   "file_extension": ".py",
   "mimetype": "text/x-python",
   "name": "python",
   "nbconvert_exporter": "python",
   "pygments_lexer": "ipython3",
   "version": "3.9.12"
  }
 },
 "nbformat": 4,
 "nbformat_minor": 5
}
